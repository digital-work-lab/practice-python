{
 "cells": [
  {
   "cell_type": "markdown",
   "id": "0ff7b136",
   "metadata": {},
   "source": [
    "# Exercise notebook: Pyhton 2\n",
    "\n",
    "[![Offered by: Digital Work at Otto-Friedrich-Universität Bamberg](https://img.shields.io/badge/Offered%20by-%20Digital%20Work%20(Otto--Friedrich--Universit%C3%A4t%20Bamberg)-blue)](https://digital-work-lab.github.io/open-source-project/)\n",
    "![License: CC BY 4.0](https://img.shields.io/badge/License-CC%20BY%204.0-green.svg)\n",
    "\n",
    "We  <img src=\"img/iconmonstr-favorite-2.svg\" alt=\"Edit\" width=\"12\" height=\"12\">  your <a href=\"https://github.com/digital-work-lab/practice-python/issues/new/choose\" target=\"_blank\">feedback</a> and <a href=\"https://github.com/digital-work-lab/practice-python/edit/main/notebooks/python_2.ipynb\" target=\"_blank\">suggestions</a> on this notebook!\n",
    "\n",
    "---"
   ]
  },
  {
   "cell_type": "markdown",
   "id": "56475418",
   "metadata": {},
   "source": [
    "With this notebook, you can refactor to object-oriented code, switch to a real CoLRev project and load the records using the CoLRev classes, and save changes to create a commit."
   ]
  },
  {
   "cell_type": "markdown",
   "id": "73e5334c",
   "metadata": {},
   "source": [
    "\n",
    "| Task | Label                              | Time (min) |\n",
    "|------|------------------------------------|------------|\n",
    "|  1   | [Object-oriented code](#task-1)    |     10     |\n",
    "|  2   | [CoLRev infrastructure](#task-2)   |     15     |\n",
    "|  3   | [Save and commit changes](#task-3) |     15     |\n",
    "|      | Overall                            |     40     |\n",
    "\n",
    "\n",
    "<br>\n",
    "\n",
    "<img src=\"img/python_overview_4.PNG\" width=\"800\">"
   ]
  },
  {
   "cell_type": "markdown",
   "id": "92b5e0f0",
   "metadata": {},
   "source": [
    "### Switch data directory\n",
    "\n",
    "To use the typical CoLRev environments (objects), we switch to an existing CoLRev project:"
   ]
  },
  {
   "cell_type": "code",
   "execution_count": null,
   "id": "054572ae",
   "metadata": {
    "vscode": {
     "languageId": "plaintext"
    }
   },
   "outputs": [],
   "source": [
    "cd ~\n",
    "git clone https://github.com/CoLRev-Environment/example.git\n",
    "cd example\n",
    "colrev status"
   ]
  },
  {
   "cell_type": "markdown",
   "id": "fe930715",
   "metadata": {},
   "source": [
    "Briefly check the last commits of the project."
   ]
  },
  {
   "cell_type": "markdown",
   "id": "ee5f0100",
   "metadata": {},
   "source": [
    "## IV. Object-oriented code <a id=\"task-1\"></a>\n",
    "\n",
    "**\"How do I write object-oriented code?\"**"
   ]
  },
  {
   "cell_type": "markdown",
   "id": "b4e8db99",
   "metadata": {},
   "source": [
    "### Object-oriented programming\n",
    "\n",
    "Our next goal is to implement the previous example (adding the journal impact factor to the records) using Python objects/methods, and using the CoLRev infrastructure.\n",
    "\n",
    "As a first step, create the `JIFLabeler` class, instantiate an object, and add the `add_jif()` method (based on the [Python objects/methods syntax](https://www.w3schools.com/python/python_classes.asp)). Run and revise the code (if necessary)."
   ]
  },
  {
   "cell_type": "markdown",
   "id": "c242e9f8",
   "metadata": {},
   "source": [
    "<details><summary {style='color:green;font-weight:bold'}>Check</summary>\n",
    "\n",
    "Also adapt the path of the records to `data/records.bib`. This is where CoLRev projects store the main records file.\n",
    "\n",
    "To checkout the solution, run:\n",
    "\n",
    "</details>"
   ]
  },
  {
   "cell_type": "code",
   "execution_count": null,
   "id": "c1dae40f",
   "metadata": {
    "vscode": {
     "languageId": "plaintext"
    }
   },
   "outputs": [],
   "source": [
    "git reset --hard 19f283870f7abf20f7e52e1783b94cc6bcf330a6"
   ]
  },
  {
   "cell_type": "markdown",
   "id": "e0bc61ab",
   "metadata": {},
   "source": [
    "## V. CoLRev infrastructure <a id=\"task-2\"></a>\n",
    "\n",
    "**\"How do I use CoLRev infrastructure?\"**"
   ]
  },
  {
   "cell_type": "markdown",
   "id": "4fccac61",
   "metadata": {},
   "source": [
    "### Using CoLRev infrastructure\n",
    "\n",
    "To use the CoLRev infrastructure, take a look at the [API reference](https://colrev-environment.github.io/colrev/dev_docs/api.html) and find the classes and methods that can be used to load and save records.\n",
    "\n",
    "Upon instantiating the `JIFLabeler`, we would like to instantiate a `ReviewManager` object and keep it as an object variable.\n",
    "\n",
    "When calling the `main` method, the records should be loaded by using the `ReviewManager`'s dataset methods."
   ]
  },
  {
   "cell_type": "markdown",
   "id": "dbaac5c4",
   "metadata": {},
   "source": [
    "<details><summary {style='color:green;font-weight:bold'}>Check</summary>\n",
    "\n",
    "Remember to import the required modules. Test your code, run the linters, and try to address potential warnings.\n",
    "\n",
    "To checkout the solution, run:\n",
    "\n",
    "</details>"
   ]
  },
  {
   "cell_type": "code",
   "execution_count": null,
   "id": "de7afd2c",
   "metadata": {
    "vscode": {
     "languageId": "plaintext"
    }
   },
   "outputs": [],
   "source": [
    "git reset --hard 34a59a63e0d02fa49d1963dda6f065a66e3be2cd"
   ]
  },
  {
   "cell_type": "markdown",
   "id": "87c94495",
   "metadata": {},
   "source": [
    "Before completing the task, we need to implement two changes:\n",
    "\n",
    "- Instead of `print()` statement, it is recommended to use the `ReviewManager`'s logger.\n",
    "- Instead of using the record dicts, it is recommended to work with the `Record` class and its `update_field()` method."
   ]
  },
  {
   "cell_type": "markdown",
   "id": "0f2b6337",
   "metadata": {},
   "source": [
    "<details><summary {style='color:green;font-weight:bold'}>Check</summary>\n",
    "\n",
    "To checkout the solution, run:\n",
    "\n",
    "</details>"
   ]
  },
  {
   "cell_type": "code",
   "execution_count": null,
   "id": "df27617d",
   "metadata": {
    "vscode": {
     "languageId": "plaintext"
    }
   },
   "outputs": [],
   "source": [
    "git reset --hard 0ae830b4c77d7a19d3beb7bc6b7485d3d871dbe9"
   ]
  },
  {
   "cell_type": "markdown",
   "id": "05dbad5c",
   "metadata": {},
   "source": [
    "## VI. Save and commit <a id=\"task-3\"></a>\n",
    "\n",
    "**\"How do I save and commit changes?\"**"
   ]
  },
  {
   "cell_type": "markdown",
   "id": "13966e9e",
   "metadata": {},
   "source": [
    "### Save and commit changes\n",
    "\n",
    "Finally, we need to save the records (using the `dataset` attribute of `ReviewManager`) and create a commit (using the `ReviewManager`).\n",
    "\n",
    "Review the commit and its content."
   ]
  },
  {
   "cell_type": "markdown",
   "id": "ebd82225",
   "metadata": {},
   "source": [
    "To checkout the solution, run:"
   ]
  },
  {
   "cell_type": "code",
   "execution_count": null,
   "id": "4cf9cfe4",
   "metadata": {
    "vscode": {
     "languageId": "plaintext"
    }
   },
   "outputs": [],
   "source": [
    "git reset --hard 402d602b91e4eff1cdd1499a5fbd7b5bf816d743"
   ]
  },
  {
   "cell_type": "markdown",
   "id": "043a77eb",
   "metadata": {},
   "source": [
    "---\n",
    "\n",
    "# Wrap-up\n",
    "\n",
    "🎉🎈 You have completed the Python commit notebook - good work! 🎈🎉\n",
    "\n",
    "In this notebook, we have learned to\n",
    "\n",
    "- TODO\n",
    "\n",
    "Remember to delete your codespace [here](https://github.com/codespaces):\n",
    "\n",
    "<img src=\"img/codespace-delete.png\" width=\"800\"/>"
   ]
  },
  {
   "cell_type": "markdown",
   "id": "faccbfd6",
   "metadata": {},
   "source": [
    "## TODO and open questions\n",
    "\n",
    "- Add \"challenge\" sections\n",
    "- Explanations (how to open the right shell)"
   ]
  }
 ],
 "metadata": {
  "kernelspec": {
   "display_name": "Python 3 (ipykernel)",
   "language": "python",
   "name": "python3"
  },
  "language_info": {
   "codemirror_mode": {
    "name": "ipython",
    "version": 3
   },
   "file_extension": ".py",
   "mimetype": "text/x-python",
   "name": "python",
   "nbconvert_exporter": "python",
   "pygments_lexer": "ipython3",
   "version": "3.8.10"
  }
 },
 "nbformat": 4,
 "nbformat_minor": 5
}
