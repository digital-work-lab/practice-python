{
 "cells": [
  {
   "cell_type": "markdown",
   "id": "0ff7b136",
   "metadata": {},
   "source": [
    "# Exercise notebook: Python 2\n",
    "\n",
    "[![Offered by: Digital Work at Otto-Friedrich-Universität Bamberg](https://img.shields.io/badge/Offered%20by-%20Digital%20Work%20(Otto--Friedrich--Universit%C3%A4t%20Bamberg)-blue)](https://digital-work-lab.github.io/open-source-project/)\n",
    "![License: CC BY 4.0](https://img.shields.io/badge/License-CC%20BY%204.0-green.svg)\n",
    "\n",
    "We  <img src=\"img/iconmonstr-favorite-2.svg\" alt=\"Edit\" width=\"12\" height=\"12\">  your <a href=\"https://github.com/digital-work-lab/practice-python/issues/new/choose\" target=\"_blank\">feedback</a> and <a href=\"https://github.com/digital-work-lab/practice-python/edit/main/notebooks/python_2.ipynb\" target=\"_blank\">suggestions</a> on this notebook!\n",
    "\n",
    "---"
   ]
  },
  {
   "cell_type": "markdown",
   "id": "56475418",
   "metadata": {},
   "source": [
    "<p style=\"max-width: 800px; margin-left: 0; margin-right: 0; text-align: justify;\">With this notebook, you can refactor to object-oriented code, switch to a real CoLRev project and load the records using the CoLRev classes, and save changes to create a commit.</p>"
   ]
  },
  {
   "cell_type": "markdown",
   "id": "73e5334c",
   "metadata": {},
   "source": [
    "\n",
    "| Part | Label                                   | Time (min) |\n",
    "|------|-----------------------------------------|------------|\n",
    "|  4   | [Object-oriented code](#object)         |     10     |\n",
    "|  5   | [Programmatic use of CoLRev](#colrev)   |     15     |\n",
    "|  6   | [Save and commit changes](#save-commit) |     13     |\n",
    "|      | [Wrap-up](#wrap-up)                     |      2     |\n",
    "|      | Overall                                 |     40     |\n",
    "\n",
    "<br>\n",
    "\n",
    "<img src=\"img/python_overview_4.PNG\" width=\"800\">\n",
    "\n",
    "<br>\n",
    "\n",
    "---"
   ]
  },
  {
   "cell_type": "markdown",
   "id": "a9f4da6a",
   "metadata": {},
   "source": [
    "<p style=\"max-width: 800px; margin-left: 0; margin-right: 0; text-align: justify;\">To continue working on your [Codespace](https://github.com/codespaces), resume it as follows:</p>\n",
    "\n",
    "<img src=\"img/codespace-start.gif\"  loop=\"1\" width=\"800\"/>"
   ]
  },
  {
   "cell_type": "markdown",
   "id": "92b5e0f0",
   "metadata": {},
   "source": [
    "### Switch to the project directory `example`\n",
    "\n",
    "<p style=\"max-width: 800px; margin-left: 0; margin-right: 0; text-align: justify;\">To use the typical CoLRev environments (objects), we switch to an existing CoLRev project:</p>"
   ]
  },
  {
   "cell_type": "code",
   "execution_count": null,
   "id": "054572ae",
   "metadata": {
    "vscode": {
     "languageId": "plaintext"
    }
   },
   "outputs": [],
   "source": [
    "cd ..\n",
    "git clone https://github.com/CoLRev-Environment/example.git\n",
    "code -a /workspaces/example"
   ]
  },
  {
   "cell_type": "markdown",
   "id": "9710df54",
   "metadata": {},
   "source": [
    "<p style=\"max-width: 800px; margin-left: 0; margin-right: 0; text-align: justify;\">The project directory `example` should now be displayed. Let's navigate to the directory and check the status:</p>"
   ]
  },
  {
   "cell_type": "code",
   "execution_count": null,
   "id": "f7879308",
   "metadata": {
    "vscode": {
     "languageId": "plaintext"
    }
   },
   "outputs": [],
   "source": [
    "cd ..example\n",
    "colrev status"
   ]
  },
  {
   "cell_type": "markdown",
   "id": "fa66f960",
   "metadata": {},
   "source": [
    "<div style=\"border: 2px solid #f44336; padding: 10px; background-color: #ffebee; color: #b71c1c; border-radius: 5px; display: inline-block; width: 800px;\">\n",
    "    <strong>Important</strong> It is important to run all project-specific commands (<code>colrev ...</code>) in the project directory (in this case, <code>example</code>).\n",
    "</div>\n"
   ]
  },
  {
   "cell_type": "markdown",
   "id": "fe930715",
   "metadata": {},
   "source": [
    "<p style=\"max-width: 800px; margin-left: 0; margin-right: 0; text-align: justify;\">Briefly check the last commits of the project.</p>"
   ]
  },
  {
   "cell_type": "markdown",
   "id": "ee5f0100",
   "metadata": {},
   "source": [
    "## Part 4. Object-oriented code <a id=\"object\"></a>\n",
    "\n",
    "<p style=\"max-width: 800px; margin-left: 0; margin-right: 0; text-align: justify;\"><b>\"How do I write object-oriented code?\"</b></p>"
   ]
  },
  {
   "cell_type": "markdown",
   "id": "b4e8db99",
   "metadata": {},
   "source": [
    "### Object-oriented programming\n",
    "\n",
    "<p style=\"max-width: 800px; margin-left: 0; margin-right: 0; text-align: justify;\">Our next goal is to implement the previous example (adding the journal impact factor to the records) using Python objects/methods, and using the CoLRev infrastructure.</p>\n",
    "\n",
    "<p style=\"max-width: 800px; margin-left: 0; margin-right: 0; text-align: justify;\">As a first step, create the `JIFLabeler` class, instantiate an object, and add the `add_jif()` method (based on the [Python objects/methods syntax](https://www.w3schools.com/python/python_classes.asp)). Run and revise the code (if necessary).</p>\n",
    "<details><summary {style='color:green;font-weight:bold'}>Hint</summary>\n",
    "\n",
    "<p style=\"max-width: 800px; margin-left: 0; margin-right: 0; text-align: justify;\">Also adapt the path of the records to `data/records.bib`. This is where CoLRev projects store the main records file.</p>\n",
    "\n",
    "</details>"
   ]
  },
  {
   "cell_type": "markdown",
   "id": "c242e9f8",
   "metadata": {},
   "source": [
    "<details><summary {style='color:green;font-weight:bold'}>Check</summary>\n",
    "\n",
    "To checkout the solution, run:\n",
    "\n",
    "```\n",
    "git reset --hard 19f283870f7abf20f7e52e1783b94cc6bcf330a6\n",
    "```\n",
    "\n",
    "</details>"
   ]
  },
  {
   "cell_type": "markdown",
   "id": "e0bc61ab",
   "metadata": {},
   "source": [
    "## Part 5: Programmatic use of CoLRev <a id=\"colrev\"></a>\n",
    "\n",
    "<p style=\"max-width: 800px; margin-left: 0; margin-right: 0; text-align: justify;\"><b>\"How do I use CoLRev infrastructure?\"</b></p>"
   ]
  },
  {
   "cell_type": "markdown",
   "id": "4fccac61",
   "metadata": {},
   "source": [
    "### Using CoLRev infrastructure\n",
    "\n",
    "<p style=\"max-width: 800px; margin-left: 0; margin-right: 0; text-align: justify;\">To use the CoLRev infrastructure, take a look at the [API reference](https://colrev-environment.github.io/colrev/dev_docs/api.html) and find the classes and methods that can be used to load and save records.</p>\n",
    "\n",
    "<p style=\"max-width: 800px; margin-left: 0; margin-right: 0; text-align: justify;\">Upon instantiating the `JIFLabeler`, we would like to instantiate a `ReviewManager` object and keep it as an object variable.</p>\n",
    "\n",
    "<p style=\"max-width: 800px; margin-left: 0; margin-right: 0; text-align: justify;\">When calling the `main` method, the records should be loaded by using the `ReviewManager`'s dataset methods.</p>\n",
    "\n",
    "<details><summary {style='color:green;font-weight:bold'}>Hint</summary>\n",
    "\n",
    "<p style=\"max-width: 800px; margin-left: 0; margin-right: 0; text-align: justify;\">Remember to import the required modules. Test your code, run the linters, and try to address potential warnings.</p>\n",
    "\n",
    "</details>"
   ]
  },
  {
   "cell_type": "markdown",
   "id": "dbaac5c4",
   "metadata": {},
   "source": [
    "<details><summary {style='color:green;font-weight:bold'}>Check</summary>\n",
    "\n",
    "To checkout the solution, run:\n",
    "\n",
    "```\n",
    "git reset --hard 34a59a63e0d02fa49d1963dda6f065a66e3be2cd\n",
    "```\n",
    "\n",
    "</details>"
   ]
  },
  {
   "cell_type": "markdown",
   "id": "87c94495",
   "metadata": {},
   "source": [
    "## Optional challenge\n",
    "\n",
    "<p style=\"max-width: 800px; margin-left: 0; margin-right: 0; text-align: justify;\">To improve the code, try to implement these two changes:</p>\n",
    "\n",
    "<p style=\"max-width: 800px; margin-left: 0; margin-right: 0; text-align: justify;\">- Instead of `print()` statement, it is recommended to use the `ReviewManager`'s logger.</p>\n",
    "<p style=\"max-width: 800px; margin-left: 0; margin-right: 0; text-align: justify;\">- Instead of using the record dicts, it is recommended to work with the `Record` class and its `update_field()` method.</p>"
   ]
  },
  {
   "cell_type": "markdown",
   "id": "0f2b6337",
   "metadata": {},
   "source": [
    "<details><summary {style='color:green;font-weight:bold'}>Check</summary>\n",
    "\n",
    "To checkout the solution, run:\n",
    "\n",
    "```\n",
    "git reset --hard 0ae830b4c77d7a19d3beb7bc6b7485d3d871dbe9\n",
    "```\n",
    "\n",
    "</details>"
   ]
  },
  {
   "cell_type": "markdown",
   "id": "05dbad5c",
   "metadata": {},
   "source": [
    "## Part 6: Save and commit <a id=\"save-commit\"></a>\n",
    "\n",
    "<p style=\"max-width: 800px; margin-left: 0; margin-right: 0; text-align: justify;\"><b>\"How do I save and commit changes?\"</b></p>"
   ]
  },
  {
   "cell_type": "markdown",
   "id": "13966e9e",
   "metadata": {},
   "source": [
    "### Save and commit changes\n",
    "\n",
    "<p style=\"max-width: 800px; margin-left: 0; margin-right: 0; text-align: justify;\">Finally, we need to save the records (using the `dataset` attribute of `ReviewManager`) and create a commit (using the `ReviewManager`).</p>\n",
    "\n",
    "<p style=\"max-width: 800px; margin-left: 0; margin-right: 0; text-align: justify;\">Review the commit and its content.</p>"
   ]
  },
  {
   "cell_type": "markdown",
   "id": "ebd82225",
   "metadata": {},
   "source": [
    "To checkout the solution, run:"
   ]
  },
  {
   "cell_type": "code",
   "execution_count": null,
   "id": "4cf9cfe4",
   "metadata": {
    "vscode": {
     "languageId": "plaintext"
    }
   },
   "outputs": [],
   "source": [
    "git reset --hard 402d602b91e4eff1cdd1499a5fbd7b5bf816d743"
   ]
  },
  {
   "cell_type": "markdown",
   "id": "043a77eb",
   "metadata": {},
   "source": [
    "---\n",
    "\n",
    "## Wrap-up <a id=\"wrap-up\"></a>\n",
    "\n",
    "🎉🎈 You have completed the Python commit notebook - good work! 🎈🎉\n",
    "\n",
    "In this notebook, we have learned to\n",
    "\n",
    "- Stop and resume your work in a GitHub Codespace\n",
    "- Write object-oriented code in Python\n",
    "- Programmatically use CoLRev\n",
    "- Save and commit changes in a CoLRev project\n",
    "\n",
    "Remember to delete your [codespace](https://github.com/codespaces) after the session."
   ]
  }
 ],
 "metadata": {
  "kernelspec": {
   "display_name": "Python 3 (ipykernel)",
   "language": "python",
   "name": "python3"
  },
  "language_info": {
   "codemirror_mode": {
    "name": "ipython",
    "version": 3
   },
   "file_extension": ".py",
   "mimetype": "text/x-python",
   "name": "python",
   "nbconvert_exporter": "python",
   "pygments_lexer": "ipython3",
   "version": "3.8.10"
  }
 },
 "nbformat": 4,
 "nbformat_minor": 5
}
