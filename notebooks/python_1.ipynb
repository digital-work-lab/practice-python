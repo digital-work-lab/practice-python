{
 "cells": [
  {
   "cell_type": "markdown",
   "id": "0ff7b136",
   "metadata": {},
   "source": [
    "# Python 1"
   ]
  },
  {
   "cell_type": "markdown",
   "id": "56475418",
   "metadata": {},
   "source": [
    "With this notebook, you can familiarize yourself with Python syntax, create and run a Python package command, create and modify a dictionary data structure, and use an external library to read BibTeX records as dictionaries.\n",
    "\n",
    "To work locally, you can download the [notebooks](https://download-directory.github.io/?url=https%3A%2F%2Fgithub.com%2Fdigital-work-lab%2Fopen-source-project%2Ftree%2Fmain%2Fnotebooks)\n",
    "\n",
    "In the following, we explain each step...\n",
    "\n",
    "<img src=\"assets/python_overview_1.PNG\" width=\"800\"/>"
   ]
  },
  {
   "cell_type": "markdown",
   "id": "73e5334c",
   "metadata": {},
   "source": [
    "| Task | Time (min) |\n",
    "|------|------------|\n",
    "|  1   |     5      |\n",
    "|  2   |     5      |\n",
    "|  3   |     15     |\n",
    "|  4   |     15     |\n",
    "|  5   |     10     |\n",
    "|  6   |     10     |"
   ]
  },
  {
   "cell_type": "markdown",
   "id": "ee5f0100",
   "metadata": {},
   "source": [
    "## I. How do I write and use Python code?"
   ]
  },
  {
   "cell_type": "markdown",
   "id": "92b5e0f0",
   "metadata": {},
   "source": [
    "### Task 1/6: Switch branch\n",
    "\n",
    "For the tutorial, we switch to the `tutorial_2024_04` branch:"
   ]
  },
  {
   "cell_type": "code",
   "execution_count": null,
   "id": "054572ae",
   "metadata": {
    "vscode": {
     "languageId": "plaintext"
    }
   },
   "outputs": [],
   "source": [
    "git clone https://github.com/CoLRev-Environment/colrev\n",
    "cd colrev\n",
    "pip install -e .[dev]\n",
    "git fetch\n",
    "git checkout tutorial_2024_04\n",
    "git reset --hard ca9902e666518af1d33a368adf055c9809004433"
   ]
  },
  {
   "cell_type": "markdown",
   "id": "fe930715",
   "metadata": {},
   "source": [
    "- As the session progresses, you can checkout the current commits.\n",
    "- Whenever you see a `git reset --hard ...` command on the following slides, you can use it to set your repository to the required state (commit)."
   ]
  },
  {
   "cell_type": "markdown",
   "id": "b4e8db99",
   "metadata": {},
   "source": [
    "### Task 2/6: Setting up entrypoints\n",
    "\n",
    "We implement a simple version of CoLRev that should be available through a separate command:"
   ]
  },
  {
   "cell_type": "code",
   "execution_count": null,
   "id": "f4d71a49",
   "metadata": {
    "vscode": {
     "languageId": "plaintext"
    }
   },
   "outputs": [],
   "source": [
    "colrev run"
   ]
  },
  {
   "cell_type": "markdown",
   "id": "c242e9f8",
   "metadata": {},
   "source": [
    "<details><summary {style='color:green;font-weight:bold'}>Check</summary>\n",
    "\n",
    "Check the last commit and the changes that were introduced. Which function does our new `run` command call?\n",
    "\n",
    "</details>"
   ]
  },
  {
   "cell_type": "markdown",
   "id": "ef68a863",
   "metadata": {},
   "source": [
    " Create the `run` module (module: file containing Python code) and the function that should be called. The function should print `Start simple colrev run`. Note that calling `colrev.ops.run.main()` means that colrev will try to import and run the `main()` function in the `colrev/ops/run.py` module. Check the other functions in the `ui_cli/cli.py` and the other modules in the `colrev/colrev` directory if necessary."
   ]
  },
  {
   "cell_type": "markdown",
   "id": "e0bc61ab",
   "metadata": {},
   "source": [
    "## II. How do I create and modify data items?"
   ]
  },
  {
   "cell_type": "markdown",
   "id": "4fccac61",
   "metadata": {},
   "source": [
    "### Task 3/6: Data types\n",
    "\n",
    "Dictionaries are efficient data structures, which can be used to handle bibliographic records, such as the following (in BibTex format):"
   ]
  },
  {
   "cell_type": "code",
   "execution_count": null,
   "id": "4d134a0d",
   "metadata": {
    "vscode": {
     "languageId": "plaintext"
    }
   },
   "outputs": [],
   "source": [
    "@article{Pare2023,\n",
    "  title   = {On writing literature reviews},\n",
    "  author  = {Pare, Guy},\n",
    "  journal = {MIS Quarterly},\n",
    "  year    = {2023}\n",
    "}"
   ]
  },
  {
   "cell_type": "markdown",
   "id": "666e29cd",
   "metadata": {},
   "source": [
    "Create a dictionary containing these data fields and print it when `colrev run` is called."
   ]
  },
  {
   "cell_type": "markdown",
   "id": "dbaac5c4",
   "metadata": {},
   "source": [
    "<details><summary {style='color:green;font-weight:bold'}>Check</summary>\n",
    "\n",
    "You can find the syntax for Python dictionaries (and many other data types) in the [W3School](https://www.w3schools.com/python/python_dictionaries.asp).\n",
    "\n",
    "</details>"
   ]
  },
  {
   "cell_type": "markdown",
   "id": "13966e9e",
   "metadata": {},
   "source": [
    "### Task 4/6: Changing data\n",
    "\n",
    "Next, we need a field indicating the record's status throughout the [process](https://colrev-environment.github.io/colrev/manual/operations.html).\n",
    "\n",
    "Add a `colrev_status` field to the dictionary, and set its value to `md_imported`. Create a commit once the command prints the following:"
   ]
  },
  {
   "cell_type": "code",
   "execution_count": null,
   "id": "51517ed3",
   "metadata": {
    "vscode": {
     "languageId": "plaintext"
    }
   },
   "outputs": [],
   "source": [
    "Start simple colrev run\n",
    "{'ID': 'Pare2023', 'title': 'On writing literature reviews', 'journal': 'MIS Quarterly', 'year': '2023', 'author': 'Pare, Guy', 'colrev_status': 'md_imported'}"
   ]
  },
  {
   "cell_type": "markdown",
   "id": "ebd82225",
   "metadata": {},
   "source": [
    "To checkout the solution, run:"
   ]
  },
  {
   "cell_type": "code",
   "execution_count": null,
   "id": "4cf9cfe4",
   "metadata": {
    "vscode": {
     "languageId": "plaintext"
    }
   },
   "outputs": [],
   "source": [
    "git reset --hard 6eb40fe1ac3a21c9be1b4d891525b6c5d78719f3"
   ]
  },
  {
   "cell_type": "markdown",
   "id": "e4814778",
   "metadata": {},
   "source": [
    "## III. How do I use external libraries?"
   ]
  },
  {
   "cell_type": "markdown",
   "id": "c2668623",
   "metadata": {},
   "source": [
    "### Task 5/6: Finding and adding external libraries\n",
    "\n",
    "Next, we decide to load (parse) a BibTeX file stored in the project. Search for an appropriate Python library to parse BibTeX files. Try to figure out how to install it and how to use it.\n",
    "\n",
    "We decide to use the [BibtexParser](https://github.com/sciunto-org/python-bibtexparser) package, which developed actively and available under an Open-Source license.\n"
   ]
  },
  {
   "cell_type": "code",
   "execution_count": null,
   "id": "e3624a50",
   "metadata": {
    "vscode": {
     "languageId": "plaintext"
    }
   },
   "outputs": [],
   "source": [
    "pip install bibtexparser"
   ]
  },
  {
   "cell_type": "markdown",
   "id": "ecce2a30",
   "metadata": {},
   "source": [
    "To add it as a dependency of CoLRev and make it available for users of the CoLRev package, we run"
   ]
  },
  {
   "cell_type": "code",
   "execution_count": null,
   "id": "db94a1f8",
   "metadata": {
    "vscode": {
     "languageId": "plaintext"
    }
   },
   "outputs": [],
   "source": [
    "poetry add bibtexparser"
   ]
  },
  {
   "cell_type": "markdown",
   "id": "2a3fec5e",
   "metadata": {},
   "source": [
    "<details><summary {style='color:green;font-weight:bold'}>Check</summary>\n",
    "\n",
    "The changes and create a commit.\n",
    "\n",
    "To checkout the solution, run:\n",
    "\n",
    "</details>"
   ]
  },
  {
   "cell_type": "code",
   "execution_count": null,
   "id": "685889e0",
   "metadata": {
    "vscode": {
     "languageId": "plaintext"
    }
   },
   "outputs": [],
   "source": [
    "git reset --hard 6b357d3cc5838e1c29ca908e5470dfd36335b9a2\n",
    "pip install -e .[dev]"
   ]
  },
  {
   "cell_type": "markdown",
   "id": "a594d99a",
   "metadata": {},
   "source": [
    "### Task 6/6: Using external libraries\n",
    "\n",
    "Go to the [bibtexparser tutorial](https://bibtexparser.readthedocs.io/) and figure out how to load a BibTeX file (**important : use v1!**). An example `records.bib` file is available [here](../assets/records.bib).\n",
    "\n",
    "Instead of defining the dictionary in the `run.py`, use the bibtexparser to load the `records.bib` file. Remember to store the `records.bib` in the **project directory**. \n",
    "\n",
    "Afterwards, loop over the records (`for ...`) and print the title of each record.\n",
    "\n",
    "Create a commit, and try to resolve linting errors (if any). We will address the [typing](https://realpython.com/python-type-checking/)-related issues together."
   ]
  },
  {
   "cell_type": "markdown",
   "id": "8f335a54",
   "metadata": {},
   "source": [
    "<details><summary {style='color:green;font-weight:bold'}>Check</summary>\n",
    "\n",
    "To checkout the solution, run:\n",
    "\n",
    "</details>"
   ]
  },
  {
   "cell_type": "code",
   "execution_count": null,
   "id": "b279f0a7",
   "metadata": {
    "vscode": {
     "languageId": "plaintext"
    }
   },
   "outputs": [],
   "source": [
    "git reset --hard ff2a044d2d0e535ea8814d31c962eae4eee64075"
   ]
  },
  {
   "cell_type": "markdown",
   "id": "226bab3b",
   "metadata": {},
   "source": [
    "Next, we would like to create a function, which adds the `journal_impact_factor` based on the following table:\n",
    "\n",
    "| journal | journal_impact_factor |\n",
    "| ------- | ----------------------|\n",
    "| MIS Quarterly |              8.3|\n",
    "| Information & Management | 10.3 |\n",
    "\n",
    "Add your changes to the staging area, run the pre-commit hooks, and address the warnings:"
   ]
  },
  {
   "cell_type": "code",
   "execution_count": null,
   "id": "88945d5d",
   "metadata": {
    "vscode": {
     "languageId": "plaintext"
    }
   },
   "outputs": [],
   "source": [
    "pre-commit run --all"
   ]
  },
  {
   "cell_type": "markdown",
   "id": "bda078d3",
   "metadata": {},
   "source": [
    "<details><summary {style='color:green;font-weight:bold'}>Check</summary>\n",
    "\n",
    "To checkout the solution, run:\n",
    "\n",
    "</details>"
   ]
  },
  {
   "cell_type": "code",
   "execution_count": null,
   "id": "8cd82084",
   "metadata": {
    "vscode": {
     "languageId": "plaintext"
    }
   },
   "outputs": [],
   "source": [
    "git reset --hard def8cd6113b9a7ded7a0d6abfd828c7735373197"
   ]
  },
  {
   "cell_type": "markdown",
   "id": "faccbfd6",
   "metadata": {},
   "source": [
    "## TODO and open questions\n",
    "\n",
    "- Add \"challenge\" sections\n",
    "- Explanations (how to open the right shell)"
   ]
  }
 ],
 "metadata": {
  "kernelspec": {
   "display_name": "Python 3 (ipykernel)",
   "language": "python",
   "name": "python3"
  },
  "language_info": {
   "codemirror_mode": {
    "name": "ipython",
    "version": 3
   },
   "file_extension": ".py",
   "mimetype": "text/x-python",
   "name": "python",
   "nbconvert_exporter": "python",
   "pygments_lexer": "ipython3",
   "version": "3.8.10"
  }
 },
 "nbformat": 4,
 "nbformat_minor": 5
}
